{
 "cells": [
  {
   "cell_type": "markdown",
   "metadata": {},
   "source": [
    "# Regresion lineal y Logística\n",
    "\n",
    "En esta práctica se comprenderan los métodos de regresión lineal y regresión logística, así como el método de optimización de parametros Gradiente Descendiente. Esto se ara atraves de librearias estadisticas y de machine learning.\n",
    "\n",
    "1. Cargar archivo csv con datos de calificaciones (GPA y SAT) de estudiantes etiquetados\n",
    "2. Estimar regresión lineal de los datos con Statsmodels\n",
    "3. Estimar regresión logística con datos de estatura y peso de hombres y mujeres\n",
    "4. Predicción de clases (Hombre/Mujer)\n",
    "5. Entrenamiento de regresión lineal con Gradiente Descendiente"
   ]
  },
  {
   "cell_type": "code",
   "execution_count": 1,
   "metadata": {},
   "outputs": [
    {
     "name": "stdout",
     "output_type": "stream",
     "text": [
      "Requirement already satisfied: pandas in d:\\programas\\anaconda3\\envs\\curso_im\\lib\\site-packages (1.0.1)\n",
      "Requirement already satisfied: pytz>=2017.2 in d:\\programas\\anaconda3\\envs\\curso_im\\lib\\site-packages (from pandas) (2019.3)\n",
      "Requirement already satisfied: numpy>=1.13.3 in d:\\programas\\anaconda3\\envs\\curso_im\\lib\\site-packages (from pandas) (1.18.1)\n",
      "Requirement already satisfied: python-dateutil>=2.6.1 in d:\\programas\\anaconda3\\envs\\curso_im\\lib\\site-packages (from pandas) (2.8.1)\n",
      "Requirement already satisfied: six>=1.5 in d:\\programas\\anaconda3\\envs\\curso_im\\lib\\site-packages (from python-dateutil>=2.6.1->pandas) (1.14.0)\n",
      "Requirement already satisfied: statsmodels in d:\\programas\\anaconda3\\envs\\curso_im\\lib\\site-packages (0.11.1)\n",
      "Requirement already satisfied: pandas>=0.21 in d:\\programas\\anaconda3\\envs\\curso_im\\lib\\site-packages (from statsmodels) (1.0.1)\n",
      "Requirement already satisfied: numpy>=1.14 in d:\\programas\\anaconda3\\envs\\curso_im\\lib\\site-packages (from statsmodels) (1.18.1)\n",
      "Requirement already satisfied: scipy>=1.0 in d:\\programas\\anaconda3\\envs\\curso_im\\lib\\site-packages (from statsmodels) (1.4.1)\n",
      "Requirement already satisfied: patsy>=0.5 in d:\\programas\\anaconda3\\envs\\curso_im\\lib\\site-packages (from statsmodels) (0.5.1)\n",
      "Requirement already satisfied: python-dateutil>=2.6.1 in d:\\programas\\anaconda3\\envs\\curso_im\\lib\\site-packages (from pandas>=0.21->statsmodels) (2.8.1)\n",
      "Requirement already satisfied: pytz>=2017.2 in d:\\programas\\anaconda3\\envs\\curso_im\\lib\\site-packages (from pandas>=0.21->statsmodels) (2019.3)\n",
      "Requirement already satisfied: six in d:\\programas\\anaconda3\\envs\\curso_im\\lib\\site-packages (from patsy>=0.5->statsmodels) (1.14.0)\n"
     ]
    }
   ],
   "source": [
    "!pip install pandas\n",
    "!pip install statsmodels"
   ]
  },
  {
   "cell_type": "markdown",
   "metadata": {},
   "source": [
    "## 1. Cargar archivo csv con datos de calificaciones (GPA y SAT) de estudiantes etiquetados\n",
    "\n",
    "Se carga un archivo con calificaciones de estudiantes:\n",
    "\n",
    "__Grade Point Average (GPA):__ Calculo del promedio de calificacones de un alumno durante un curso. Internacionalmente reconocido.\n",
    "\n",
    "__Scholastic Assessment Test (SAT):__ examen estandarizado para la admisión a la universidad en E.U.A.\n",
    "\n",
    "Se requiere saber si existe una relación causal entre el GPA y SAT, esto quiere decir que se busca saber como afectara la calificación obtenida en GPA a los alumnos al momento de realizar su SAT. Se esperaria que un alumno con un alta calificación en GPA tuviera una alta calificación en el examen SAT."
   ]
  },
  {
   "cell_type": "code",
   "execution_count": 2,
   "metadata": {},
   "outputs": [
    {
     "name": "stdout",
     "output_type": "stream",
     "text": [
      "               SAT        GPA\n",
      "count    84.000000  84.000000\n",
      "mean   1845.273810   3.330238\n",
      "std     104.530661   0.271617\n",
      "min    1634.000000   2.400000\n",
      "25%    1772.000000   3.190000\n",
      "50%    1846.000000   3.380000\n",
      "75%    1934.000000   3.502500\n",
      "max    2050.000000   3.810000\n"
     ]
    },
    {
     "data": {
      "image/png": "[encoded data removed]",
      "text/plain": [
       "<Figure size 432x288 with 1 Axes>"
      ]
     },
     "metadata": {
      "needs_background": "light"
     },
     "output_type": "display_data"
    }
   ],
   "source": [
    "import numpy as np\n",
    "import pandas as pd\n",
    "import matplotlib.pyplot as plt\n",
    "import statsmodels.api as sm\n",
    "\n",
    "data = pd.read_csv('Data/Simple linear regression.csv')\n",
    "print(data.describe())\n",
    "\n",
    "y = data ['GPA']\n",
    "x1 = data ['SAT']\n",
    "\n",
    "plt.scatter(x1,y)\n",
    "plt.xlabel('SAT', fontsize = 20)\n",
    "plt.ylabel('GPA', fontsize = 20)\n",
    "plt.show()"
   ]
  },
  {
   "cell_type": "markdown",
   "metadata": {},
   "source": [
    "## 2. Estimar regresión lineal de los datos con Statsmodels\n",
    "\n",
    "__StatsModels:__ es un modulo de python que provee clases y funciones para la estimación de modelos estadísticos, realizar pruebas estadísticas y exploración de datos. \n",
    "\n",
    "__Ordinary Least Squares (OLS):__ Es el método de minimos cuadrados ordinarios para la estimación de una regresión lineal"
   ]
  },
  {
   "cell_type": "code",
   "execution_count": 3,
   "metadata": {},
   "outputs": [
    {
     "data": {
      "text/html": [
       "<table class=\"simpletable\">\n",
       "<caption>OLS Regression Results</caption>\n",
       "<tr>\n",
       "  <th>Dep. Variable:</th>           <td>GPA</td>       <th>  R-squared:         </th> <td>   0.406</td>\n",
       "</tr>\n",
       "<tr>\n",
       "  <th>Model:</th>                   <td>OLS</td>       <th>  Adj. R-squared:    </th> <td>   0.399</td>\n",
       "</tr>\n",
       "<tr>\n",
       "  <th>Method:</th>             <td>Least Squares</td>  <th>  F-statistic:       </th> <td>   56.05</td>\n",
       "</tr>\n",
       "<tr>\n",
       "  <th>Date:</th>             <td>Thu, 26 Mar 2020</td> <th>  Prob (F-statistic):</th> <td>7.20e-11</td>\n",
       "</tr>\n",
       "<tr>\n",
       "  <th>Time:</th>                 <td>17:11:37</td>     <th>  Log-Likelihood:    </th> <td>  12.672</td>\n",
       "</tr>\n",
       "<tr>\n",
       "  <th>No. Observations:</th>      <td>    84</td>      <th>  AIC:               </th> <td>  -21.34</td>\n",
       "</tr>\n",
       "<tr>\n",
       "  <th>Df Residuals:</th>          <td>    82</td>      <th>  BIC:               </th> <td>  -16.48</td>\n",
       "</tr>\n",
       "<tr>\n",
       "  <th>Df Model:</th>              <td>     1</td>      <th>                     </th>     <td> </td>   \n",
       "</tr>\n",
       "<tr>\n",
       "  <th>Covariance Type:</th>      <td>nonrobust</td>    <th>                     </th>     <td> </td>   \n",
       "</tr>\n",
       "</table>\n",
       "<table class=\"simpletable\">\n",
       "<tr>\n",
       "    <td></td>       <th>coef</th>     <th>std err</th>      <th>t</th>      <th>P>|t|</th>  <th>[0.025</th>    <th>0.975]</th>  \n",
       "</tr>\n",
       "<tr>\n",
       "  <th>const</th> <td>    0.2750</td> <td>    0.409</td> <td>    0.673</td> <td> 0.503</td> <td>   -0.538</td> <td>    1.088</td>\n",
       "</tr>\n",
       "<tr>\n",
       "  <th>SAT</th>   <td>    0.0017</td> <td>    0.000</td> <td>    7.487</td> <td> 0.000</td> <td>    0.001</td> <td>    0.002</td>\n",
       "</tr>\n",
       "</table>\n",
       "<table class=\"simpletable\">\n",
       "<tr>\n",
       "  <th>Omnibus:</th>       <td>12.839</td> <th>  Durbin-Watson:     </th> <td>   0.950</td>\n",
       "</tr>\n",
       "<tr>\n",
       "  <th>Prob(Omnibus):</th> <td> 0.002</td> <th>  Jarque-Bera (JB):  </th> <td>  16.155</td>\n",
       "</tr>\n",
       "<tr>\n",
       "  <th>Skew:</th>          <td>-0.722</td> <th>  Prob(JB):          </th> <td>0.000310</td>\n",
       "</tr>\n",
       "<tr>\n",
       "  <th>Kurtosis:</th>      <td> 4.590</td> <th>  Cond. No.          </th> <td>3.29e+04</td>\n",
       "</tr>\n",
       "</table><br/><br/>Warnings:<br/>[1] Standard Errors assume that the covariance matrix of the errors is correctly specified.<br/>[2] The condition number is large, 3.29e+04. This might indicate that there are<br/>strong multicollinearity or other numerical problems."
      ],
      "text/plain": [
       "<class 'statsmodels.iolib.summary.Summary'>\n",
       "\"\"\"\n",
       "                            OLS Regression Results                            \n",
       "==============================================================================\n",
       "Dep. Variable:                    GPA   R-squared:                       0.406\n",
       "Model:                            OLS   Adj. R-squared:                  0.399\n",
       "Method:                 Least Squares   F-statistic:                     56.05\n",
       "Date:                Thu, 26 Mar 2020   Prob (F-statistic):           7.20e-11\n",
       "Time:                        17:11:37   Log-Likelihood:                 12.672\n",
       "No. Observations:                  84   AIC:                            -21.34\n",
       "Df Residuals:                      82   BIC:                            -16.48\n",
       "Df Model:                           1                                         \n",
       "Covariance Type:            nonrobust                                         \n",
       "==============================================================================\n",
       "                 coef    std err          t      P>|t|      [0.025      0.975]\n",
       "------------------------------------------------------------------------------\n",
       "const          0.2750      0.409      0.673      0.503      -0.538       1.088\n",
       "SAT            0.0017      0.000      7.487      0.000       0.001       0.002\n",
       "==============================================================================\n",
       "Omnibus:                       12.839   Durbin-Watson:                   0.950\n",
       "Prob(Omnibus):                  0.002   Jarque-Bera (JB):               16.155\n",
       "Skew:                          -0.722   Prob(JB):                     0.000310\n",
       "Kurtosis:                       4.590   Cond. No.                     3.29e+04\n",
       "==============================================================================\n",
       "\n",
       "Warnings:\n",
       "[1] Standard Errors assume that the covariance matrix of the errors is correctly specified.\n",
       "[2] The condition number is large, 3.29e+04. This might indicate that there are\n",
       "strong multicollinearity or other numerical problems.\n",
       "\"\"\""
      ]
     },
     "execution_count": 3,
     "metadata": {},
     "output_type": "execute_result"
    }
   ],
   "source": [
    "x = sm.add_constant(x1)\n",
    "results = sm.OLS(y,x).fit()\n",
    "results.summary()"
   ]
  },
  {
   "cell_type": "code",
   "execution_count": 4,
   "metadata": {},
   "outputs": [
    {
     "data": {
      "image/png": "[encoded data removed]",
      "text/plain": [
       "<Figure size 432x288 with 1 Axes>"
      ]
     },
     "metadata": {
      "needs_background": "light"
     },
     "output_type": "display_data"
    }
   ],
   "source": [
    "plt.scatter(x1,y)\n",
    "yhat = 0.0017*x1 + 0.275\n",
    "fig = plt.plot(x1,yhat, lw=4, c='orange', label ='regression line')\n",
    "\n",
    "plt.xlabel('SAT', fontsize = 20)\n",
    "plt.ylabel('GPA', fontsize = 20)\n",
    "plt.show()"
   ]
  },
  {
   "cell_type": "markdown",
   "metadata": {},
   "source": [
    "## 3. Cargar archivo csv con datos de estatura y peso de hombres y mujeres\n",
    "\n",
    "Se carga un archivo con el peso y la estatura de diferentes personas. Esto a traves de una relación logistica, ya que el sexo es una variable categórica (Hombre/Mujer). Para el ajuse de la regresión lineal se utilizara la libreria Sklearn.\n",
    "\n",
    "Se requiere saber si existe una relación causal entre el la altura, el peso y el sexo de una persona. Se utilizara una regresión logistica para saber si a traves de los valores del peso y la estatura se puede identificar el sexo de una persona"
   ]
  },
  {
   "cell_type": "code",
   "execution_count": 5,
   "metadata": {},
   "outputs": [
    {
     "data": {
      "text/plain": [
       "Text(0, 0.5, 'Weight (lbs)')"
      ]
     },
     "execution_count": 5,
     "metadata": {},
     "output_type": "execute_result"
    },
    {
     "data": {
      "image/png": "[encoded data removed]",
      "text/plain": [
       "<Figure size 432x288 with 1 Axes>"
      ]
     },
     "metadata": {
      "needs_background": "light"
     },
     "output_type": "display_data"
    }
   ],
   "source": [
    "import numpy as np\n",
    "from sklearn import linear_model\n",
    "\n",
    "# Load data\n",
    "data = np.loadtxt('Data/heights_weights.csv', delimiter=',', skiprows=1)\n",
    "X = data[:,1:3]\n",
    "y = data[:,0]\n",
    "\n",
    "female_idx = np.where(y==1)\n",
    "male_idx = np.where(y==0)\n",
    "\n",
    "plt.scatter(X[male_idx,0],X[male_idx,1])\n",
    "plt.scatter(X[female_idx,0],X[female_idx,1], c = 'r')\n",
    "plt.xlabel('Height')\n",
    "plt.ylabel('Weight (lbs)')"
   ]
  },
  {
   "cell_type": "markdown",
   "metadata": {},
   "source": [
    "### Entrenar Regresión logística con Sklearn"
   ]
  },
  {
   "cell_type": "code",
   "execution_count": 6,
   "metadata": {},
   "outputs": [
    {
     "name": "stdout",
     "output_type": "stream",
     "text": [
      "[-0.69254177]\n",
      "[[ 0.49261999 -0.19834042]]\n"
     ]
    }
   ],
   "source": [
    "# Fit (train) the Logistic Regression classifier\n",
    "clf = linear_model.LogisticRegression(C=1e40, solver='newton-cg')\n",
    "fitted_model = clf.fit(X, y)\n",
    "\n",
    "# For theta_0:\n",
    "print( fitted_model.intercept_ )\n",
    "# For theta_1 and theta_2:\n",
    "print( fitted_model.coef_ )"
   ]
  },
  {
   "cell_type": "markdown",
   "metadata": {},
   "source": [
    "## 4. Predicción de clases\n",
    "\n",
    "Estimar el sexo de una persona de acuerdo a su peso y estatura utilizando la regresión logística estimada"
   ]
  },
  {
   "cell_type": "code",
   "execution_count": 7,
   "metadata": {},
   "outputs": [
    {
     "name": "stdout",
     "output_type": "stream",
     "text": [
      "[0.]\n"
     ]
    }
   ],
   "source": [
    "# Predict\n",
    "prediction_result = clf.predict([(65,190)])\n",
    "print(prediction_result)"
   ]
  },
  {
   "cell_type": "markdown",
   "metadata": {},
   "source": [
    "## 5. Entrenamiento de regresión lineal con Gradiente Descendiente\n",
    "\n",
    "Se realizara el entrenamiento de una regresión lineal con datos creados aleatoriamente. El entrenamiento se llevara a cabo mediante el método de optimización de Gradiente Descendiente utilizando L2_norm como función de perdida para la evaluación del modelo\n",
    "\n",
    "### Crear datos aleatorios y agregar ruido"
   ]
  },
  {
   "cell_type": "code",
   "execution_count": 8,
   "metadata": {},
   "outputs": [
    {
     "data": {
      "image/png": "[encoded data removed]",
      "text/plain": [
       "<Figure size 432x288 with 1 Axes>"
      ]
     },
     "metadata": {
      "needs_background": "light"
     },
     "output_type": "display_data"
    }
   ],
   "source": [
    "import numpy as np\n",
    "import matplotlib\n",
    "import random\n",
    "\n",
    "X = 2 * np.random.rand(100,1)\n",
    "y = 4 + 3*X + np.random.randn(100,1) #add noise to data\n",
    "\n",
    "n_observations = len(y)\n",
    "\n",
    "plt.plot(X,y,'b.')\n",
    "plt.xlabel(\"$x$\", fontsize=18)\n",
    "plt.ylabel(\"$y$\", rotation=0, fontsize=18)\n",
    "_ =plt.axis([0,2,0,15])"
   ]
  },
  {
   "cell_type": "markdown",
   "metadata": {},
   "source": [
    "### Definir las funciones de perdida (L2_norm) y de optimización (Gradiente descendiente)"
   ]
  },
  {
   "cell_type": "code",
   "execution_count": 9,
   "metadata": {},
   "outputs": [],
   "source": [
    "def  cal_cost(w,X,y):\n",
    "    predictions = np.dot(X,w)\n",
    "    cost = (1/(2*n_observations))*(predictions - y)\n",
    "    \n",
    "    return cost\n",
    "\n",
    "def gradient_descent(X,y,w,learning_rate=0.01,iterations=100):\n",
    "    \n",
    "    cost_history = np.zeros(iterations)\n",
    "    w_history = np.zeros((iterations,2))\n",
    "    \n",
    "    for it in range(iterations):\n",
    "        \n",
    "        #Calculate gradient cost\n",
    "        cost = cal_cost(w,X,y)\n",
    "        grad_cost = X.T.dot(cost)\n",
    "        \n",
    "        #Adjust weights\n",
    "        w = w - learning_rate*(grad_cost)\n",
    "    \n",
    "        w_history[it,:] = w.T\n",
    "        cost_history[it]  = abs(np.mean(cost)) #L2_norm\n",
    "        \n",
    "    return w, cost_history, w_history"
   ]
  },
  {
   "cell_type": "markdown",
   "metadata": {},
   "source": [
    "### Calcular regresión lineal para datos ruidosos"
   ]
  },
  {
   "cell_type": "code",
   "execution_count": 10,
   "metadata": {},
   "outputs": [
    {
     "name": "stdout",
     "output_type": "stream",
     "text": [
      "Weight initialization\n",
      "w0:          -0.221,\n",
      "w1:          -0.697\n",
      "First cost/MSE:  0.039077727117793\n",
      "w0:          3.978,\n",
      "w1:          2.876\n",
      "Final cost/MSE:  0.000000062118456\n"
     ]
    }
   ],
   "source": [
    "#hyperparameters\n",
    "lr =0.1\n",
    "n_iter = 1000\n",
    "\n",
    "#Init weights randomly\n",
    "w = np.random.randn(2,1)\n",
    "\n",
    "print('Weight initialization')\n",
    "print('w0:          {:0.3f},\\nw1:          {:0.3f}'.format(w[0][0],w[1][0]))\n",
    "\n",
    "#Compute gradient descent\n",
    "X_b = np.c_[np.ones((len(X),1)),X]\n",
    "w,cost_history,w_history = gradient_descent(X_b,y,w,lr,n_iter)\n",
    "\n",
    "print('First cost/MSE:  {:0.15f}'.format(cost_history[0]))\n",
    "print('w0:          {:0.3f},\\nw1:          {:0.3f}'.format(w[0][0],w[1][0]))\n",
    "print('Final cost/MSE:  {:0.15f}'.format(cost_history[-1]))"
   ]
  },
  {
   "cell_type": "code",
   "execution_count": 11,
   "metadata": {},
   "outputs": [
    {
     "data": {
      "text/plain": [
       "[<matplotlib.lines.Line2D at 0x285e9439ec8>]"
      ]
     },
     "execution_count": 11,
     "metadata": {},
     "output_type": "execute_result"
    },
    {
     "data": {
      "image/png": "[encoded data removed]",
      "text/plain": [
       "<Figure size 432x288 with 1 Axes>"
      ]
     },
     "metadata": {
      "needs_background": "light"
     },
     "output_type": "display_data"
    }
   ],
   "source": [
    "plt.plot(cost_history)\n"
   ]
  },
  {
   "cell_type": "code",
   "execution_count": 12,
   "metadata": {},
   "outputs": [
    {
     "data": {
      "image/png": "[encoded data removed]",
      "text/plain": [
       "<Figure size 432x288 with 1 Axes>"
      ]
     },
     "metadata": {
      "needs_background": "light"
     },
     "output_type": "display_data"
    }
   ],
   "source": [
    "y_predict = w[0][0] + w[1][0]*X \n",
    "\n",
    "plt.plot(X,y_predict,'r-')\n",
    "plt.plot(X,y,'b.')\n",
    "plt.xlabel(\"$x$\", fontsize=18)\n",
    "plt.ylabel(\"$y$\", rotation=0, fontsize=18)\n",
    "_ =plt.axis([0,2,0,15])"
   ]
  },
  {
   "cell_type": "code",
   "execution_count": null,
   "metadata": {},
   "outputs": [],
   "source": []
  },
  {
   "cell_type": "code",
   "execution_count": null,
   "metadata": {},
   "outputs": [],
   "source": []
  }
 ],
 "metadata": {
  "kernelspec": {
   "display_name": "Python 3",
   "language": "python",
   "name": "python3"
  },
  "language_info": {
   "codemirror_mode": {
    "name": "ipython",
    "version": 3
   },
   "file_extension": ".py",
   "mimetype": "text/x-python",
   "name": "python",
   "nbconvert_exporter": "python",
   "pygments_lexer": "ipython3",
   "version": "3.7.6"
  }
 },
 "nbformat": 4,
 "nbformat_minor": 4
}
